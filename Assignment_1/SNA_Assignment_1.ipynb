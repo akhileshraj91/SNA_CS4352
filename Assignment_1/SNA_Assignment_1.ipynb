{
  "cells": [
    {
      "cell_type": "code",
      "source": [
        "import networkx as nx\n",
        "from collections import Counter\n",
        "import math\n",
        "import numpy as np\n",
        "import matplotlib.pyplot as plt\n",
        "import copy\n",
        "import time as time\n",
        "import scipy as scp\n",
        "from scipy import stats as ST\n",
        "import random"
      ],
      "metadata": {
        "id": "FiUY13eHAy1m"
      },
      "id": "FiUY13eHAy1m",
      "execution_count": 134,
      "outputs": []
    },
    {
      "cell_type": "markdown",
      "source": [
        "**Solution 5.** Generation of random graphs. The following cell before the next text box will give detailed description of the generation of random graphs with the given probabilities."
      ],
      "metadata": {
        "id": "kvV7ARNo19Q9"
      },
      "id": "kvV7ARNo19Q9"
    },
    {
      "cell_type": "code",
      "source": [
        "\n",
        "n = 1000\n",
        "p_set = [0.001,0.005, 0.01]\n",
        "ER_graph = {}\n",
        "\n",
        "m_set = [1,2,5]\n",
        "BA_graph = {}\n",
        "\n",
        "k=4\n",
        "p_set_WS = [0,0.1,1]\n",
        "WS_graph = {}\n",
        "\n",
        "graph_lab = {}\n",
        "lab_ind = 0"
      ],
      "metadata": {
        "id": "5XNFR1ezz0nt"
      },
      "id": "5XNFR1ezz0nt",
      "execution_count": 135,
      "outputs": []
    },
    {
      "cell_type": "code",
      "source": [
        "for p in p_set:\n",
        "    ER_graph[\"ER\"+str(p)] = nx.erdos_renyi_graph(n,p)\n",
        "    graph_lab[\"ER\"+str(p)] = f\"Erdos-Reyni_{p}\" \n",
        "    print(f\"Generated the E-R graph with p{p}-->\",ER_graph[\"ER\"+str(p)])"
      ],
      "metadata": {
        "id": "uWvK22LRz2gp",
        "colab": {
          "base_uri": "https://localhost:8080/"
        },
        "outputId": "26cc632f-0193-454f-aa91-d58f0b40886a"
      },
      "id": "uWvK22LRz2gp",
      "execution_count": 136,
      "outputs": [
        {
          "output_type": "stream",
          "name": "stdout",
          "text": [
            "Generated the E-R graph with p0.001--> Graph with 1000 nodes and 453 edges\n",
            "Generated the E-R graph with p0.005--> Graph with 1000 nodes and 2503 edges\n",
            "Generated the E-R graph with p0.01--> Graph with 1000 nodes and 4898 edges\n"
          ]
        }
      ]
    },
    {
      "cell_type": "code",
      "source": [
        "for m in m_set:\n",
        "    BA_graph[\"BA\"+str(m)] = nx.barabasi_albert_graph(n,m)\n",
        "    graph_lab[\"BA\"+str(m)] = f\"Barabasi-Albert_{m}\" \n",
        "    print(f\"Generated the B-A graph with m{m}-->\",BA_graph[\"BA\"+str(m)])"
      ],
      "metadata": {
        "id": "uJAI3btKz31b",
        "colab": {
          "base_uri": "https://localhost:8080/"
        },
        "outputId": "36b252ce-015a-4395-efc9-6578021df47f"
      },
      "id": "uJAI3btKz31b",
      "execution_count": 137,
      "outputs": [
        {
          "output_type": "stream",
          "name": "stdout",
          "text": [
            "Generated the B-A graph with m1--> Graph with 1000 nodes and 999 edges\n",
            "Generated the B-A graph with m2--> Graph with 1000 nodes and 1996 edges\n",
            "Generated the B-A graph with m5--> Graph with 1000 nodes and 4975 edges\n"
          ]
        }
      ]
    },
    {
      "cell_type": "code",
      "source": [
        "for p_WS in p_set_WS:\n",
        "    WS_graph[\"WS\"+str(p_WS)] = nx.watts_strogatz_graph(n,k,p_WS)\n",
        "    graph_lab[\"WS\"+str(p_WS)] = f\"Watts-Strogatz_{p_WS}\" \n",
        "    print(f\"Generated the W-S graph with p{p_WS}-->\",WS_graph[\"WS\"+str(p_WS)])"
      ],
      "metadata": {
        "id": "6Uh0gPtYz5LG",
        "colab": {
          "base_uri": "https://localhost:8080/"
        },
        "outputId": "2bd529f4-9af2-4685-8c31-88f689edb86e"
      },
      "id": "6Uh0gPtYz5LG",
      "execution_count": 138,
      "outputs": [
        {
          "output_type": "stream",
          "name": "stdout",
          "text": [
            "Generated the W-S graph with p0--> Graph with 1000 nodes and 2000 edges\n",
            "Generated the W-S graph with p0.1--> Graph with 1000 nodes and 2000 edges\n",
            "Generated the W-S graph with p1--> Graph with 1000 nodes and 2000 edges\n"
          ]
        }
      ]
    },
    {
      "cell_type": "markdown",
      "source": [
        "The following part addresses the generation of the Social Network Graph downloaded from the link https://snap.stanford.edu/data/CollegeMsg.html"
      ],
      "metadata": {
        "id": "V6WOPmeO4RKk"
      },
      "id": "V6WOPmeO4RKk"
    },
    {
      "cell_type": "code",
      "execution_count": 139,
      "metadata": {
        "id": "53427fa1",
        "colab": {
          "base_uri": "https://localhost:8080/"
        },
        "outputId": "ea2f870a-670d-433f-a68f-60e4ccf792d8"
      },
      "outputs": [
        {
          "output_type": "stream",
          "name": "stdout",
          "text": [
            "Graph with 60810 nodes and 73499 edges\n"
          ]
        }
      ],
      "source": [
        "G1 = nx.read_adjlist('CollegeMsg.txt',delimiter=' ')\n",
        "print(G1)\n",
        "G_rep = copy.deepcopy(G1)\n"
      ],
      "id": "53427fa1"
    },
    {
      "cell_type": "code",
      "execution_count": 140,
      "metadata": {
        "id": "cd17bff4",
        "colab": {
          "base_uri": "https://localhost:8080/"
        },
        "outputId": "54a00d7f-b7e9-42a8-cdc5-385295edd79b"
      },
      "outputs": [
        {
          "output_type": "stream",
          "name": "stdout",
          "text": [
            "Generate the social network with optimized connections as:  Graph with 1899 nodes and 13838 edges\n"
          ]
        }
      ],
      "source": [
        "node_2_delete = []\n",
        "for n in G_rep.nodes:\n",
        "    if int(n)>2000:\n",
        "        node_2_delete.append(n)\n",
        "G_rep.remove_nodes_from(node_2_delete)\n",
        "print(\"Generate the social network with optimized connections as: \", G_rep)\n"
      ],
      "id": "cd17bff4"
    },
    {
      "cell_type": "markdown",
      "source": [
        "Solution 5(a): The following section addresses the generation of degree distribution similar to the one given in the link: https://stackoverflow.com/questions/16489655/plotting-log-binned-network-degree-\n",
        "distributions. \n",
        "Legend: ER - Erdos-Renyi, BA - Barabasi-Albert, WS - Watts-Strogatz and social - Social Network"
      ],
      "metadata": {
        "id": "979LuHIX7qVM"
      },
      "id": "979LuHIX7qVM"
    },
    {
      "cell_type": "code",
      "execution_count": 141,
      "metadata": {
        "id": "c22eb198"
      },
      "outputs": [],
      "source": [
        "all_graphs = {**ER_graph, **BA_graph, **WS_graph}\n",
        "all_graphs[\"social\"] = G_rep\n",
        "graph_lab[\"social\"] = \"social\""
      ],
      "id": "c22eb198"
    },
    {
      "cell_type": "code",
      "execution_count": 142,
      "metadata": {
        "id": "4uau4uSDlEqf",
        "colab": {
          "base_uri": "https://localhost:8080/",
          "height": 1000
        },
        "outputId": "eb7e0464-6ef1-4bcd-bde5-70fa308e7da1"
      },
      "outputs": [
        {
          "output_type": "stream",
          "name": "stderr",
          "text": [
            "/usr/local/lib/python3.7/dist-packages/ipykernel_launcher.py:13: RuntimeWarning: invalid value encountered in true_divide\n",
            "  del sys.path[0]\n",
            "/usr/local/lib/python3.7/dist-packages/ipykernel_launcher.py:14: RuntimeWarning: invalid value encountered in true_divide\n",
            "  \n"
          ]
        },
        {
          "output_type": "display_data",
          "data": {
            "text/plain": [
              "<Figure size 432x288 with 1 Axes>"
            ],
            "image/png": "[encoded data removed]"
          },
          "metadata": {
            "needs_background": "light"
          }
        },
        {
          "output_type": "display_data",
          "data": {
            "text/plain": [
              "<Figure size 432x288 with 1 Axes>"
            ],
            "image/png": "[encoded data removed]"
          },
          "metadata": {
            "needs_background": "light"
          }
        },
        {
          "output_type": "display_data",
          "data": {
            "text/plain": [
              "<Figure size 432x288 with 1 Axes>"
            ],
            "image/png": "[encoded data removed]"
          },
          "metadata": {
            "needs_background": "light"
          }
        },
        {
          "output_type": "display_data",
          "data": {
            "text/plain": [
              "<Figure size 432x288 with 1 Axes>"
            ],
            "image/png": "[encoded data removed]"
          },
          "metadata": {
            "needs_background": "light"
          }
        },
        {
          "output_type": "display_data",
          "data": {
            "text/plain": [
              "<Figure size 432x288 with 1 Axes>"
            ],
            "image/png": "[encoded data removed]"
          },
          "metadata": {
            "needs_background": "light"
          }
        },
        {
          "output_type": "display_data",
          "data": {
            "text/plain": [
              "<Figure size 432x288 with 1 Axes>"
            ],
            "image/png": "[encoded data removed]"
          },
          "metadata": {
            "needs_background": "light"
          }
        },
        {
          "output_type": "display_data",
          "data": {
            "text/plain": [
              "<Figure size 432x288 with 1 Axes>"
            ],
            "image/png": "[encoded data removed]"
          },
          "metadata": {
            "needs_background": "light"
          }
        },
        {
          "output_type": "display_data",
          "data": {
            "text/plain": [
              "<Figure size 432x288 with 1 Axes>"
            ],
            "image/png": "[encoded data removed]"
          },
          "metadata": {
            "needs_background": "light"
          }
        },
        {
          "output_type": "display_data",
          "data": {
            "text/plain": [
              "<Figure size 432x288 with 1 Axes>"
            ],
            "image/png": "[encoded data removed]"
          },
          "metadata": {
            "needs_background": "light"
          }
        },
        {
          "output_type": "display_data",
          "data": {
            "text/plain": [
              "<Figure size 432x288 with 1 Axes>"
            ],
            "image/png": "[encoded data removed]"
          },
          "metadata": {
            "needs_background": "light"
          }
        }
      ],
      "source": [
        "def drop_zeros(a_list):\n",
        "    return [i for i in a_list if i>0]\n",
        "\n",
        "def log_binning(counter_dict,bin_count=35):\n",
        "    max_x = math.log10(max(counter_dict.keys()))\n",
        "    max_y = math.log10(max(counter_dict.values()))\n",
        "    max_base = max([max_x,max_y])\n",
        "\n",
        "    min_x = math.log10(min(drop_zeros(counter_dict.keys())))\n",
        "\n",
        "    bins = np.logspace(min_x,max_base,num=bin_count)\n",
        "\n",
        "    bin_means_y = np.histogram(list(counter_dict.keys()), bins, weights=list(counter_dict.values()))[0] / np.histogram(list(counter_dict.keys()), bins)[0]\n",
        "    bin_means_x = np.histogram(list(counter_dict.keys()), bins, weights=list(counter_dict.keys()))[0] / np.histogram(list(counter_dict.keys()), bins)[0]\n",
        "    return bin_means_x,bin_means_y\n",
        "\n",
        "# plotting the log-binned degree distribution for each of the 10 graphs\n",
        "for i in all_graphs.keys():\n",
        "    ba_g = all_graphs[i]\n",
        "    ba_c = nx.degree_centrality(ba_g)\n",
        "    ba_c2 = dict(Counter(list(ba_c.values())))\n",
        "    ba_x, ba_y = log_binning(ba_c2, 50)\n",
        "\n",
        "    plt.xscale('log')\n",
        "    plt.yscale('log')\n",
        "    plt.scatter(ba_x, ba_y, c='r', marker='s', s=50)\n",
        "    plt.scatter(ba_c2.keys(), ba_c2.values(), c='b', marker='x')\n",
        "    plt.xlim((1e-4, 1e-1))\n",
        "    plt.ylim((.9, 1e4))\n",
        "    plt.xlabel('Connections (normalized)')\n",
        "    plt.ylabel('Frequency')\n",
        "    plt.title('log-binned degree distribution of ' + graph_lab[i])\n",
        "    plt.show()"
      ],
      "id": "4uau4uSDlEqf"
    },
    {
      "cell_type": "markdown",
      "source": [
        "Solution 5(b): Largest Connected Components"
      ],
      "metadata": {
        "id": "f8gpl7PgAN7C"
      },
      "id": "f8gpl7PgAN7C"
    },
    {
      "cell_type": "code",
      "execution_count": 143,
      "metadata": {
        "id": "07700e38",
        "colab": {
          "base_uri": "https://localhost:8080/"
        },
        "outputId": "96cbc275-3116-442b-d64a-80aa7a96076c"
      },
      "outputs": [
        {
          "output_type": "stream",
          "name": "stdout",
          "text": [
            "ER0.001  has 548 connected component(s)\n",
            "The percentage of nodes in the largest connected component is: 11.4 \n",
            "\n",
            "ER0.005  has 8 connected component(s)\n",
            "The percentage of nodes in the largest connected component is: 99.3 \n",
            "\n",
            "ER0.01  has 1 connected component(s)\n",
            "The percentage of nodes in the largest connected component is: 100.0 \n",
            "\n",
            "BA1  has 1 connected component(s)\n",
            "The percentage of nodes in the largest connected component is: 100.0 \n",
            "\n",
            "BA2  has 1 connected component(s)\n",
            "The percentage of nodes in the largest connected component is: 100.0 \n",
            "\n",
            "BA5  has 1 connected component(s)\n",
            "The percentage of nodes in the largest connected component is: 100.0 \n",
            "\n",
            "WS0  has 1 connected component(s)\n",
            "The percentage of nodes in the largest connected component is: 100.0 \n",
            "\n",
            "WS0.1  has 1 connected component(s)\n",
            "The percentage of nodes in the largest connected component is: 100.0 \n",
            "\n",
            "WS1  has 1 connected component(s)\n",
            "The percentage of nodes in the largest connected component is: 100.0 \n",
            "\n",
            "social  has 4 connected component(s)\n",
            "The percentage of nodes in the largest connected component is: 99.68404423380727 \n",
            "\n"
          ]
        }
      ],
      "source": [
        "largest_cc = {}\n",
        "largest_cc_graph = {}\n",
        "for i in all_graphs.keys():\n",
        "  Graph = all_graphs[i]\n",
        "  num_cc  = nx.number_connected_components(Graph)\n",
        "  print(f\"{i}  has {num_cc} connected component(s)\")\n",
        "  largest_cc[i] = max(nx.connected_components(Graph),key=len)\n",
        "  largest_cc_graph[i] = Graph.subgraph(largest_cc[i]).copy()\n",
        "  num_nodes = nx.number_of_nodes(largest_cc_graph[i])\n",
        "  frac_nodes = num_nodes / nx.number_of_nodes(Graph)\n",
        "  print(f\"The percentage of nodes in the largest connected component is: {100*frac_nodes} \\n\")"
      ],
      "id": "07700e38"
    },
    {
      "cell_type": "markdown",
      "source": [
        "Solution 5(c): Average shorted path length"
      ],
      "metadata": {
        "id": "6WLc50CdAS7J"
      },
      "id": "6WLc50CdAS7J"
    },
    {
      "cell_type": "code",
      "execution_count": 144,
      "metadata": {
        "id": "efa1f09f",
        "colab": {
          "base_uri": "https://localhost:8080/"
        },
        "outputId": "20bf96fa-fed4-4601-942b-1dec64174b58"
      },
      "outputs": [
        {
          "output_type": "stream",
          "name": "stdout",
          "text": [
            "The average shortest path length in the graph ER0.001 is : 10.581741965533302\n",
            "The average shortest path length in the graph ER0.005 is : 4.466263846928499\n",
            "The average shortest path length in the graph ER0.01 is : 3.283031031031031\n",
            "The average shortest path length in the graph BA1 is : 7.061383383383383\n",
            "The average shortest path length in the graph BA2 is : 4.043725725725726\n",
            "The average shortest path length in the graph BA5 is : 2.9692892892892893\n",
            "The average shortest path length in the graph WS0 is : 125.37537537537537\n",
            "The average shortest path length in the graph WS0.1 is : 8.899577577577578\n",
            "The average shortest path length in the graph WS1 is : 5.300956956956957\n",
            "The average shortest path length in the graph social is : 3.0551670838037994\n"
          ]
        }
      ],
      "source": [
        "for i in all_graphs.keys():\n",
        "  shortest_path = nx.average_shortest_path_length(largest_cc_graph[i])\n",
        "  print(f\"The average shortest path length in the graph {i} is :\",shortest_path)"
      ],
      "id": "efa1f09f"
    },
    {
      "cell_type": "markdown",
      "source": [
        "**Solution 8:**"
      ],
      "metadata": {
        "id": "nQJwTZ-gAjUd"
      },
      "id": "nQJwTZ-gAjUd"
    },
    {
      "cell_type": "markdown",
      "source": [
        "Solution 8 : Generation of the graphs"
      ],
      "metadata": {
        "id": "HrhFSfJYDJsw"
      },
      "id": "HrhFSfJYDJsw"
    },
    {
      "cell_type": "code",
      "source": [
        "Q_8_graphs = {}\n",
        "\n",
        "G_ER_1 = nx.gnp_random_graph(500,0.002)\n",
        "G_ER_2 = nx.gnp_random_graph(5000,0.0002)\n",
        "G_BA_1 = nx.barabasi_albert_graph(500,2)\n",
        "G_BA_2 = nx.barabasi_albert_graph(5000,2)\n",
        "\n",
        "Q_8_graphs[\"ER graph with n = 500 and p = 0.002\"] = G_ER_1\n",
        "Q_8_graphs[\"ER graph with n = 5000 and p = 0.0002\"] = G_ER_2\n",
        "Q_8_graphs[\"BA graph with n = 500 and m = 2\"] = G_BA_1\n",
        "Q_8_graphs[\"BA graph with n = 5000 and m = 2\"] = G_BA_2\n",
        "\n",
        "for i in Q_8_graphs.keys():\n",
        "  print(f\"Generated the {i} --> {Q_8_graphs[i]}\")"
      ],
      "metadata": {
        "colab": {
          "base_uri": "https://localhost:8080/"
        },
        "id": "7jr-ArrHBIO5",
        "outputId": "147e359c-a90d-4183-f555-2c8ee69cb9da"
      },
      "id": "7jr-ArrHBIO5",
      "execution_count": 145,
      "outputs": [
        {
          "output_type": "stream",
          "name": "stdout",
          "text": [
            "Generated the ER graph with n = 500 and p = 0.002 --> Graph with 500 nodes and 244 edges\n",
            "Generated the ER graph with n = 5000 and p = 0.0002 --> Graph with 5000 nodes and 2483 edges\n",
            "Generated the BA graph with n = 500 and m = 2 --> Graph with 500 nodes and 996 edges\n",
            "Generated the BA graph with n = 5000 and m = 2 --> Graph with 5000 nodes and 9996 edges\n"
          ]
        }
      ]
    },
    {
      "cell_type": "markdown",
      "source": [
        "Calculation of three centralities"
      ],
      "metadata": {
        "id": "RxjY3jniDPOh"
      },
      "id": "RxjY3jniDPOh"
    },
    {
      "cell_type": "markdown",
      "source": [
        "Closeness Centrality:"
      ],
      "metadata": {
        "id": "IQ9UFrFsEylh"
      },
      "id": "IQ9UFrFsEylh"
    },
    {
      "cell_type": "code",
      "source": [
        "CL_CV = {}\n",
        "for i in Q_8_graphs.keys():\n",
        "  start_time = time.time()\n",
        "  CL_CV[i] = nx.closeness_centrality(Q_8_graphs[i])\n",
        "  end_time = time.time()\n",
        "  Execution_time = end_time-start_time\n",
        "  print(f\"Computation time for closeness centrality of {i} is {Execution_time} seconds.\")"
      ],
      "metadata": {
        "colab": {
          "base_uri": "https://localhost:8080/"
        },
        "id": "B5iXPyP3DYXk",
        "outputId": "faaa42dc-88c0-4366-f2cd-8a4223bd0a1a"
      },
      "id": "B5iXPyP3DYXk",
      "execution_count": 146,
      "outputs": [
        {
          "output_type": "stream",
          "name": "stdout",
          "text": [
            "Computation time for closeness centrality of ER graph with n = 500 and p = 0.002 is 0.016454696655273438 seconds.\n",
            "Computation time for closeness centrality of ER graph with n = 5000 and p = 0.0002 is 0.16028094291687012 seconds.\n",
            "Computation time for closeness centrality of BA graph with n = 500 and m = 2 is 0.33492374420166016 seconds.\n",
            "Computation time for closeness centrality of BA graph with n = 5000 and m = 2 is 43.37643504142761 seconds.\n"
          ]
        }
      ]
    },
    {
      "cell_type": "code",
      "source": [
        "BW_CV = {}\n",
        "for i in Q_8_graphs.keys():\n",
        "  start_time = time.time()\n",
        "  BW_CV[i] = nx.betweenness_centrality(Q_8_graphs[i])\n",
        "  end_time = time.time()\n",
        "  Execution_time = end_time-start_time\n",
        "  print(f\"Computation time for betweeness centrality of {i} is {Execution_time} seconds.\")"
      ],
      "metadata": {
        "colab": {
          "base_uri": "https://localhost:8080/"
        },
        "id": "RDR93oeBFr5r",
        "outputId": "9b134ecd-4b4f-49d6-8a12-8e24ac58aa6e"
      },
      "id": "RDR93oeBFr5r",
      "execution_count": 147,
      "outputs": [
        {
          "output_type": "stream",
          "name": "stdout",
          "text": [
            "Computation time for betweeness centrality of ER graph with n = 500 and p = 0.002 is 0.05714869499206543 seconds.\n",
            "Computation time for betweeness centrality of ER graph with n = 5000 and p = 0.0002 is 45.967564821243286 seconds.\n",
            "Computation time for betweeness centrality of BA graph with n = 500 and m = 2 is 0.9208416938781738 seconds.\n",
            "Computation time for betweeness centrality of BA graph with n = 5000 and m = 2 is 184.4478690624237 seconds.\n"
          ]
        }
      ]
    },
    {
      "cell_type": "code",
      "source": [
        "EV_CV = {}\n",
        "for i in Q_8_graphs.keys():\n",
        "  start_time = time.time()\n",
        "  EV_CV[i] = nx.eigenvector_centrality(Q_8_graphs[i],max_iter = 5000)\n",
        "  end_time = time.time()\n",
        "  Execution_time = end_time-start_time\n",
        "  print(f\"Computation time for Eignen Vector centrality of {i} is {Execution_time} seconds.\")"
      ],
      "metadata": {
        "colab": {
          "base_uri": "https://localhost:8080/"
        },
        "id": "y9HR63rAF_q0",
        "outputId": "fa2cb877-3dda-4edd-c396-6f969d23a187"
      },
      "id": "y9HR63rAF_q0",
      "execution_count": 150,
      "outputs": [
        {
          "output_type": "stream",
          "name": "stdout",
          "text": [
            "Computation time for Eignen Vector centrality of ER graph with n = 500 and p = 0.002 is 3.4876177310943604 seconds.\n",
            "Computation time for Eignen Vector centrality of ER graph with n = 5000 and p = 0.0002 is 3.173560380935669 seconds.\n",
            "Computation time for Eignen Vector centrality of BA graph with n = 500 and m = 2 is 0.028679847717285156 seconds.\n",
            "Computation time for Eignen Vector centrality of BA graph with n = 5000 and m = 2 is 0.49115872383117676 seconds.\n"
          ]
        }
      ]
    },
    {
      "cell_type": "markdown",
      "source": [
        "Calculation of correlations:"
      ],
      "metadata": {
        "id": "HNVEFJd-Ge1o"
      },
      "id": "HNVEFJd-Ge1o"
    },
    {
      "cell_type": "code",
      "source": [
        "BW_keys = list(BW_CV[\"BA graph with n = 5000 and m = 2\"].values())\n",
        "CL_keys = list(CL_CV[\"BA graph with n = 5000 and m = 2\"].values())\n",
        "EV_keys = list(EV_CV[\"BA graph with n = 5000 and m = 2\"].values())\n",
        "# P_correlation_1 = ST.spearmanr(list(CL_keys),list(BW_keys))\n",
        "# print(P_correlation_1)"
      ],
      "metadata": {
        "id": "bN5irjichQBh"
      },
      "execution_count": 151,
      "outputs": [],
      "id": "bN5irjichQBh"
    },
    {
      "cell_type": "markdown",
      "source": [
        "Pearson Correlations"
      ],
      "metadata": {
        "id": "V6_XE099Joa4"
      },
      "id": "V6_XE099Joa4"
    },
    {
      "cell_type": "code",
      "source": [
        "P_correlation_4 = ST.pearsonr(CL_keys,BW_keys)\n",
        "print(f\"Pearson correlation between Closeness and Betweeness centralities of the BA graph with n = 5000 and m = 2 is: {P_correlation_4}\")\n",
        "P_correlation_5 = ST.pearsonr(CL_keys,EV_keys)\n",
        "print(f\"Pearson correlation between Closeness and EigenVector centralities of the BA graph with n = 5000 and m = 2 is: {P_correlation_5}\")\n",
        "P_correlation_6 = ST.pearsonr(BW_keys,EV_keys)\n",
        "print(f\"Pearson correlation between Betweenness and EigenVector centralities of the BA graph with n = 5000 and m = 2 is: {P_correlation_6}\")"
      ],
      "metadata": {
        "colab": {
          "base_uri": "https://localhost:8080/"
        },
        "id": "JiVTSBTCJnGf",
        "outputId": "43fd8772-583c-4b06-fd87-2540c6baaf97"
      },
      "id": "JiVTSBTCJnGf",
      "execution_count": 152,
      "outputs": [
        {
          "output_type": "stream",
          "name": "stdout",
          "text": [
            "Pearson correlation between Closeness and Betweeness centralities of the BA graph with n = 5000 and m = 2 is: (0.31329518350563623, 2.702415586170229e-114)\n",
            "Pearson correlation between Closeness and EigenVector centralities of the BA graph with n = 5000 and m = 2 is: (0.6513593912408663, 0.0)\n",
            "Pearson correlation between Betweenness and EigenVector centralities of the BA graph with n = 5000 and m = 2 is: (0.8108720985820141, 0.0)\n"
          ]
        }
      ]
    },
    {
      "cell_type": "markdown",
      "source": [
        "Spearman Correlations"
      ],
      "metadata": {
        "id": "NIHqeV1iJqra"
      },
      "id": "NIHqeV1iJqra"
    },
    {
      "cell_type": "code",
      "source": [
        "P_correlation_1 = ST.spearmanr(CL_keys,BW_keys)\n",
        "print(f\"Spearman correlation between Closeness and Betweenness centralities of the BA graph with n = 5000 and m = 2 is: {P_correlation_1}\")\n",
        "P_correlation_2 = ST.spearmanr(CL_keys,EV_keys)\n",
        "print(f\"Spearman correlation between Closeness and EigneVector centralities of the BA graph with n = 5000 and m = 2 is: {P_correlation_2}\")\n",
        "P_correlation_3 = ST.spearmanr(BW_keys,EV_keys)\n",
        "print(f\"Spearman correlation between Betweenness and EigenVector centralities of the BA graph with n = 5000 and m = 2 is: {P_correlation_3}\")\n",
        "\n"
      ],
      "metadata": {
        "colab": {
          "base_uri": "https://localhost:8080/"
        },
        "id": "hgfXBOoqFdOB",
        "outputId": "d8155b7d-1717-44e7-ec5b-90377f90131a"
      },
      "execution_count": 153,
      "outputs": [
        {
          "output_type": "stream",
          "name": "stdout",
          "text": [
            "Spearman correlation between Closeness and Betweenness centralities of the BA graph with n = 5000 and m = 2 is: SpearmanrResult(correlation=0.668628146320473, pvalue=0.0)\n",
            "Spearman correlation between Closeness and EigneVector centralities of the BA graph with n = 5000 and m = 2 is: SpearmanrResult(correlation=0.9801832987460694, pvalue=0.0)\n",
            "Spearman correlation between Betweenness and EigenVector centralities of the BA graph with n = 5000 and m = 2 is: SpearmanrResult(correlation=0.6143440832769946, pvalue=0.0)\n"
          ]
        }
      ],
      "id": "hgfXBOoqFdOB"
    },
    {
      "cell_type": "markdown",
      "source": [
        "**Solution 9: Karate Club**"
      ],
      "metadata": {
        "id": "nxyXmBz-J9mE"
      },
      "id": "nxyXmBz-J9mE"
    },
    {
      "cell_type": "code",
      "source": [
        "G1 = nx.generators.social.karate_club_graph()\n",
        "\n",
        "n = G1.number_of_nodes()\n",
        "center = nx.distance_measures.center(G1)\n",
        "# print(n)\n",
        "# print(center)\n",
        "if (len(center)>1):\n",
        "    center_n = random.choice(center)\n",
        "\n",
        "for i in range(n):\n",
        "    d = nx.shortest_path_length(G1,i,center_n)\n",
        "    CN = 1/(1+d)\n",
        "    print(f\"The distance of the node {i} to the network center is {d} and its centrality score is {CN}\")"
      ],
      "metadata": {
        "colab": {
          "base_uri": "https://localhost:8080/"
        },
        "id": "5l99U2N2KDKD",
        "outputId": "655d9bfa-1a36-48c4-bd33-24df4922785c"
      },
      "id": "5l99U2N2KDKD",
      "execution_count": 154,
      "outputs": [
        {
          "output_type": "stream",
          "name": "stdout",
          "text": [
            "The distance of the node 0 to the network center is 1 and its centrality score is 0.5\n",
            "The distance of the node 1 to the network center is 2 and its centrality score is 0.3333333333333333\n",
            "The distance of the node 2 to the network center is 1 and its centrality score is 0.5\n",
            "The distance of the node 3 to the network center is 2 and its centrality score is 0.3333333333333333\n",
            "The distance of the node 4 to the network center is 2 and its centrality score is 0.3333333333333333\n",
            "The distance of the node 5 to the network center is 2 and its centrality score is 0.3333333333333333\n",
            "The distance of the node 6 to the network center is 2 and its centrality score is 0.3333333333333333\n",
            "The distance of the node 7 to the network center is 2 and its centrality score is 0.3333333333333333\n",
            "The distance of the node 8 to the network center is 0 and its centrality score is 1.0\n",
            "The distance of the node 9 to the network center is 2 and its centrality score is 0.3333333333333333\n",
            "The distance of the node 10 to the network center is 2 and its centrality score is 0.3333333333333333\n",
            "The distance of the node 11 to the network center is 2 and its centrality score is 0.3333333333333333\n",
            "The distance of the node 12 to the network center is 2 and its centrality score is 0.3333333333333333\n",
            "The distance of the node 13 to the network center is 2 and its centrality score is 0.3333333333333333\n",
            "The distance of the node 14 to the network center is 2 and its centrality score is 0.3333333333333333\n",
            "The distance of the node 15 to the network center is 2 and its centrality score is 0.3333333333333333\n",
            "The distance of the node 16 to the network center is 3 and its centrality score is 0.25\n",
            "The distance of the node 17 to the network center is 2 and its centrality score is 0.3333333333333333\n",
            "The distance of the node 18 to the network center is 2 and its centrality score is 0.3333333333333333\n",
            "The distance of the node 19 to the network center is 2 and its centrality score is 0.3333333333333333\n",
            "The distance of the node 20 to the network center is 2 and its centrality score is 0.3333333333333333\n",
            "The distance of the node 21 to the network center is 2 and its centrality score is 0.3333333333333333\n",
            "The distance of the node 22 to the network center is 2 and its centrality score is 0.3333333333333333\n",
            "The distance of the node 23 to the network center is 2 and its centrality score is 0.3333333333333333\n",
            "The distance of the node 24 to the network center is 3 and its centrality score is 0.25\n",
            "The distance of the node 25 to the network center is 3 and its centrality score is 0.25\n",
            "The distance of the node 26 to the network center is 2 and its centrality score is 0.3333333333333333\n",
            "The distance of the node 27 to the network center is 2 and its centrality score is 0.3333333333333333\n",
            "The distance of the node 28 to the network center is 2 and its centrality score is 0.3333333333333333\n",
            "The distance of the node 29 to the network center is 2 and its centrality score is 0.3333333333333333\n",
            "The distance of the node 30 to the network center is 1 and its centrality score is 0.5\n",
            "The distance of the node 31 to the network center is 2 and its centrality score is 0.3333333333333333\n",
            "The distance of the node 32 to the network center is 1 and its centrality score is 0.5\n",
            "The distance of the node 33 to the network center is 1 and its centrality score is 0.5\n"
          ]
        }
      ]
    }
  ],
  "metadata": {
    "kernelspec": {
      "display_name": "Python 3 (ipykernel)",
      "language": "python",
      "name": "python3"
    },
    "language_info": {
      "codemirror_mode": {
        "name": "ipython",
        "version": 3
      },
      "file_extension": ".py",
      "mimetype": "text/x-python",
      "name": "python",
      "nbconvert_exporter": "python",
      "pygments_lexer": "ipython3",
      "version": "3.10.0"
    },
    "colab": {
      "provenance": []
    }
  },
  "nbformat": 4,
  "nbformat_minor": 5
}